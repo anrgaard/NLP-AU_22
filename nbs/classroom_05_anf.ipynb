{
 "cells": [
  {
   "cell_type": "markdown",
   "id": "1c6701f8-424e-4dbb-a208-59f232970940",
   "metadata": {},
   "source": [
    "# Classroom 5 - Working with word embeddings"
   ]
  },
  {
   "cell_type": "markdown",
   "id": "3d5374aa-257e-4ec3-add4-cbe26f926350",
   "metadata": {},
   "source": [
    "So far we've seen a couple of key Python libraries for doing specific tasks in NLP. For example, ```scikit-learn``` provides a whole host of fundamental machine learning algortithms; ```spaCy``` allows us to do robust linguistic analysis; ```huggingface``` is the place to go for pretrained models (more on that in coming weeks); ```pytorch``` is the best framework for building complex deep learning models.\n",
    "\n",
    "Today, we're going to meet ```gensim``` which is the best way to work with (static) word embeddings like word2vec. You can find the documentation [here](https://radimrehurek.com/gensim/)."
   ]
  },
  {
   "cell_type": "code",
   "execution_count": 3,
   "id": "377bfa0c-a4fc-4b31-9e20-aeba254db6d5",
   "metadata": {
    "execution": {
     "iopub.execute_input": "2022-10-13T11:26:12.530529Z",
     "iopub.status.busy": "2022-10-13T11:26:12.529804Z",
     "iopub.status.idle": "2022-10-13T11:26:13.556862Z",
     "shell.execute_reply": "2022-10-13T11:26:13.555130Z",
     "shell.execute_reply.started": "2022-10-13T11:26:12.530471Z"
    },
    "tags": []
   },
   "outputs": [],
   "source": [
    "import os\n",
    "import gensim\n",
    "import gensim.downloader\n",
    "import matplotlib.pyplot as plt\n",
    "from sklearn.decomposition import TruncatedSVD\n",
    "from sklearn.decomposition import PCA"
   ]
  },
  {
   "cell_type": "markdown",
   "id": "9d11e678-a148-42f4-983d-e71e2a5fa9ab",
   "metadata": {},
   "source": [
    "## Choose a language\n",
    "\n",
    "I've downloaded a number of pretrained word2vec models for different languages. I've tried to get a model for every language spoken as a first language by at least one person in the class.\n",
    "\n",
    "Feel free to experiment with a couple, but make sure to use different variable names for the models.\n",
    "\n",
    "NB: The English embeddings are 300d; all other word2vec models here are 100d. Notice also that different word2vec models are loaded in different ways. This is due to way that they were saved after training - the saved formats are not consistently the same."
   ]
  },
  {
   "cell_type": "code",
   "execution_count": 4,
   "id": "2ed41b0a-a40c-4bc5-b98a-e87d79c05d0a",
   "metadata": {
    "execution": {
     "iopub.execute_input": "2022-10-13T11:26:15.090456Z",
     "iopub.status.busy": "2022-10-13T11:26:15.089708Z",
     "iopub.status.idle": "2022-10-13T11:26:17.622369Z",
     "shell.execute_reply": "2022-10-13T11:26:17.620582Z",
     "shell.execute_reply.started": "2022-10-13T11:26:15.090393Z"
    },
    "tags": []
   },
   "outputs": [],
   "source": [
    "# Dutch embeddings https://github.com/coosto/dutch-word-embeddings\n",
    "#model = gensim.models.KeyedVectors.load_word2vec_format(\"dutch_word2vec.bin\", binary=True)\n",
    "\n",
    "# Polish embeddings https://github.com/sdadas/polish-nlp-resources#word2vec\n",
    "#model = gensim.models.KeyedVectors.load(\"polish_word2vec.bin\")\n",
    "\n",
    "# Portuguese embedings http://nilc.icmc.usp.br/embeddings\n",
    "#model = gensim.models.KeyedVectors.load_word2vec_format(\"portuguese_word2vec.bin\")\n",
    "\n",
    "# Chinese embeddings https://ai.tencent.com/ailab/nlp/en/embedding.html\n",
    "#model = gensim.models.KeyedVectors.load_word2vec_format(\"chinese_word2vec.bin\", binary=False)\n",
    "\n",
    "# Norwegian embeddings http://vectors.nlpl.eu/repository/\n",
    "#model = gensim.models.KeyedVectors.load_word2vec_format(\"norwegian_word2vec.bin\", binary=True)\n",
    "\n",
    "# Danish embeddings https://korpus.dsl.dk/resources/details/word2vec.html\n",
    "#model = gensim.models.KeyedVectors.load_word2vec_format(\"danish_word2vec.bin\", binary=True)\n",
    "\n",
    "# Icelandic embeddings http://embeddings.arnastofnun.is/ (NB: these are lemmatised)\n",
    "#model = gensim.models.KeyedVectors.load(\"icelandic_word2vec.kv\")\n",
    "\n",
    "# English embeddings http://vectors.nlpl.eu/repository/ (English CoNLL17 corpus)\n",
    "model = gensim.models.KeyedVectors.load(\"../../../word2vec/english/english_word2vec.bin\")"
   ]
  },
  {
   "cell_type": "markdown",
   "id": "ebf79327-ffe5-43ba-8f09-3ee8e4ec3c95",
   "metadata": {},
   "source": [
    "I've outlined a couple of tasks for you below to experiment with. Use these just as stepping off points to explore the nature of word embeddings and how they work.\n",
    "\n",
    "Work in small groups on these tasks and make sure to discuss the issues and compare results - preferably across languages!"
   ]
  },
  {
   "cell_type": "markdown",
   "id": "6d604e11-9b07-4d12-b10f-3309484819fa",
   "metadata": {},
   "source": [
    "### Task 1: Finding polysemy\n",
    "\n",
    "Find a polysemous word (for example, \"leaves\" or \"scoop\") such that the top-10 most similar words (according to cosine similarity) contains related words from both meanings. An example is given for you below in English. \n",
    "\n",
    "Are there certain words for which polysemy is more of a problem?"
   ]
  },
  {
   "cell_type": "code",
   "execution_count": 8,
   "id": "2cd074b4-23ee-4d70-afc8-db85bd53e904",
   "metadata": {
    "execution": {
     "iopub.execute_input": "2022-10-13T11:26:39.457702Z",
     "iopub.status.busy": "2022-10-13T11:26:39.457000Z",
     "iopub.status.idle": "2022-10-13T11:26:39.620121Z",
     "shell.execute_reply": "2022-10-13T11:26:39.618193Z",
     "shell.execute_reply.started": "2022-10-13T11:26:39.457645Z"
    },
    "tags": []
   },
   "outputs": [
    {
     "data": {
      "text/plain": [
       "[('Party', 0.7125185132026672),\n",
       " ('parties', 0.6745480298995972),\n",
       " ('partys', 0.5965837240219116),\n",
       " ('Democratic_Party', 0.5447009205818176),\n",
       " ('LOUDON_NH_Brad_Keselowski', 0.5346890091896057),\n",
       " ('caucus', 0.5226368308067322),\n",
       " ('pary', 0.5175394415855408),\n",
       " ('faction', 0.5168995261192322),\n",
       " ('mad_hatter_tea', 0.507461428642273),\n",
       " ('Labour_Party', 0.4938312768936157)]"
      ]
     },
     "execution_count": 8,
     "metadata": {},
     "output_type": "execute_result"
    }
   ],
   "source": [
    "model.most_similar(\"party\")"
   ]
  },
  {
   "cell_type": "markdown",
   "id": "4a78f14e-45b0-4538-ae54-ffeb01836618",
   "metadata": {},
   "source": [
    "### Task 2: Synonyms and antonyms\n",
    "\n",
    "In the lecture, we saw that _cosine similarity_ can also be thought of as _cosine distance_, which is simply ```1 - cosine similarity```. So the higher the cosine distance, the further away two words are from each other and so they have less \"in common\".\n",
    "\n",
    "Find three words ```(w1,w2,w3)``` where ```w1``` and ```w2``` are synonyms and ```w1``` and ```w3``` are antonyms, but where: \n",
    "\n",
    "```Cosine Distance(w1,w3) < Cosine Distance(w1,w2)```\n",
    "\n",
    "For example, w1=\"happy\" is closer to w3=\"sad\" than to w2=\"cheerful\".\n",
    "\n",
    "Once you have found your example, please give a possible explanation for why this counter-intuitive result may have happened. Are there any inconsistencies?\n",
    "\n",
    "You should use the the ```model.distance(w1, w2)``` function here in order to compute the cosine distance between two words. I've given a starting example below."
   ]
  },
  {
   "cell_type": "code",
   "execution_count": 11,
   "id": "8b476719-0cc1-4da2-bdd9-98bd22bd48e2",
   "metadata": {
    "execution": {
     "iopub.execute_input": "2022-10-13T11:28:51.002030Z",
     "iopub.status.busy": "2022-10-13T11:28:51.001364Z",
     "iopub.status.idle": "2022-10-13T11:28:51.012787Z",
     "shell.execute_reply": "2022-10-13T11:28:51.011701Z",
     "shell.execute_reply.started": "2022-10-13T11:28:51.001973Z"
    },
    "tags": []
   },
   "outputs": [
    {
     "data": {
      "text/plain": [
       "0.266884982585907"
      ]
     },
     "execution_count": 11,
     "metadata": {},
     "output_type": "execute_result"
    }
   ],
   "source": [
    "model.distance(\"large\", \"small\") # 0.27"
   ]
  },
  {
   "cell_type": "code",
   "execution_count": 14,
   "id": "72d9efe2-809f-4944-9e6d-a9c735ccc4ff",
   "metadata": {
    "execution": {
     "iopub.execute_input": "2022-10-13T11:28:36.667432Z",
     "iopub.status.busy": "2022-10-13T11:28:36.666728Z",
     "iopub.status.idle": "2022-10-13T11:28:36.677467Z",
     "shell.execute_reply": "2022-10-13T11:28:36.676303Z",
     "shell.execute_reply.started": "2022-10-13T11:28:36.667375Z"
    },
    "tags": []
   },
   "outputs": [
    {
     "data": {
      "text/plain": [
       "0.44385212659835815"
      ]
     },
     "execution_count": 14,
     "metadata": {},
     "output_type": "execute_result"
    }
   ],
   "source": [
    "model.distance(\"big\",\"large\") # 0.44"
   ]
  },
  {
   "cell_type": "code",
   "execution_count": 12,
   "id": "6ed87ba7-851c-42bb-91a1-0033c6ebaa79",
   "metadata": {},
   "outputs": [
    {
     "data": {
      "text/plain": [
       "True"
      ]
     },
     "execution_count": 12,
     "metadata": {},
     "output_type": "execute_result"
    }
   ],
   "source": [
    "model.distance(\"large\", \"small\") < model.distance(\"big\",\"large\")"
   ]
  },
  {
   "cell_type": "markdown",
   "id": "86210994-55e0-4ef1-99c8-9345e297cbc9",
   "metadata": {},
   "source": [
    "### Task 3: Word analogies\n",
    "\n",
    "We saw in the lecture on Wednesday that we can use basic arithmetic on word embeddings, in order to conduct word analogy task.\n",
    "\n",
    "For example:\n",
    "\n",
    "```man::king as woman::queen```\n",
    "\n",
    "So we can say that if we take the vector for ```king``` and subtract the vector for ```man```, we're removing the gender component from the ```king```. If we then add ```woman``` to the resulting vector, we should be left with a vector similar to ```queen```.\n",
    "\n",
    "NB: It might not be _exactly_ the vector for ```queen```, but it should at least be _close_ to it.\n",
    "\n",
    "```gensim``` has some quirky syntax that allows us to perform this kind of arithmetic."
   ]
  },
  {
   "cell_type": "code",
   "execution_count": 36,
   "id": "e97f38cc-a6a6-4d54-a0ef-97b90bef4140",
   "metadata": {
    "execution": {
     "iopub.execute_input": "2022-10-13T11:37:01.747364Z",
     "iopub.status.busy": "2022-10-13T11:37:01.746670Z",
     "iopub.status.idle": "2022-10-13T11:37:01.859900Z",
     "shell.execute_reply": "2022-10-13T11:37:01.858453Z",
     "shell.execute_reply.started": "2022-10-13T11:37:01.747307Z"
    },
    "tags": []
   },
   "outputs": [
    {
     "data": {
      "text/plain": [
       "[('eels', 0.552884578704834),\n",
       " ('fishies', 0.5354982018470764),\n",
       " ('swordfish_tuna', 0.5257872939109802),\n",
       " ('squid', 0.5170410871505737),\n",
       " ('redhorse', 0.5167239308357239),\n",
       " ('pumpkinseeds', 0.5160173177719116),\n",
       " ('shark_stingray', 0.5141909122467041),\n",
       " ('warmouth', 0.5138033628463745),\n",
       " ('isopods', 0.512639582157135),\n",
       " ('squids', 0.5082203149795532)]"
      ]
     },
     "execution_count": 36,
     "metadata": {},
     "output_type": "execute_result"
    }
   ],
   "source": [
    "model.most_similar(positive=['unicorn', 'fish'], \n",
    "                   negative=['horse'])"
   ]
  },
  {
   "cell_type": "code",
   "execution_count": 38,
   "id": "029e688c",
   "metadata": {},
   "outputs": [
    {
     "data": {
      "text/plain": [
       "('study', 0.509824275970459)"
      ]
     },
     "execution_count": 38,
     "metadata": {},
     "output_type": "execute_result"
    }
   ],
   "source": [
    "model.most_similar(positive=['novel', 'research'], \n",
    "                   negative=['fiction'])[0]"
   ]
  },
  {
   "cell_type": "code",
   "execution_count": 40,
   "metadata": {},
   "outputs": [
    {
     "data": {
      "text/plain": [
       "('winter', 0.5936813354492188)"
      ]
     },
     "execution_count": 40,
     "metadata": {},
     "output_type": "execute_result"
    }
   ],
   "source": [
    "model.most_similar(positive=['summer', 'cold'], \n",
    "                   negative=['warm'])[0]"
   ]
  },
  {
   "cell_type": "markdown",
   "id": "46a8a954-4feb-4b5e-894b-f530d9bf96de",
   "metadata": {},
   "source": [
    "Try to find at least three analogies which correctly hold - where \"correctly\" here means that the closest vector corresponds to the word that you as a native speaker think it should."
   ]
  },
  {
   "cell_type": "markdown",
   "id": "6632d94f-d2c1-4bfb-aaf8-92c2a26c2fab",
   "metadata": {},
   "source": [
    "### Task 3b: Wrong analogies\n",
    "\n",
    "Can you find any analogies which _should_ hold but don't? Why don't they work? Are there any similarities or trends?"
   ]
  },
  {
   "cell_type": "code",
   "execution_count": 44,
   "id": "9e8721d5-1b49-4f67-89dc-cdea12114722",
   "metadata": {},
   "outputs": [
    {
     "data": {
      "text/plain": [
       "[('raspberries', 0.49668046832084656),\n",
       " ('cherry_pomegranate', 0.47256290912628174),\n",
       " ('cherry_vanilla', 0.4628252685070038),\n",
       " ('chocolate_raspberry', 0.4543251693248749),\n",
       " ('bean_enchiladas', 0.45408666133880615),\n",
       " ('bean_salsa', 0.44985586404800415),\n",
       " ('cherry_blackberry', 0.44856277108192444),\n",
       " ('mocha', 0.4423496127128601),\n",
       " ('minty', 0.44205087423324585),\n",
       " ('white_poodle_bichon', 0.4411676526069641)]"
      ]
     },
     "execution_count": 44,
     "metadata": {},
     "output_type": "execute_result"
    }
   ],
   "source": [
    "model.most_similar(positive=['raspberry', 'black'], \n",
    "                   negative=['red'])"
   ]
  },
  {
   "cell_type": "markdown",
   "id": "378e672c-9140-49b6-91fa-f8d5364a91f6",
   "metadata": {},
   "source": [
    "### Task 4: Exploring bias"
   ]
  },
  {
   "cell_type": "markdown",
   "id": "217f907d-5ecb-4f8a-93b1-e4c19f67e3d0",
   "metadata": {},
   "source": [
    "As we spoke briefly about in the lecture, word embeddings tend to display bias of the kind found in the training data.\n",
    "\n",
    "Using some of the techniques you've worked on above, can you find some clear instances of bias in the word embedding models that you're exploring"
   ]
  },
  {
   "cell_type": "code",
   "execution_count": 72,
   "id": "22b2caac-f064-4ee8-8cc4-c81690da786a",
   "metadata": {
    "execution": {
     "iopub.execute_input": "2022-10-13T11:38:45.594622Z",
     "iopub.status.busy": "2022-10-13T11:38:45.593924Z",
     "iopub.status.idle": "2022-10-13T11:38:45.707115Z",
     "shell.execute_reply": "2022-10-13T11:38:45.705573Z",
     "shell.execute_reply.started": "2022-10-13T11:38:45.594565Z"
    },
    "tags": []
   },
   "outputs": [
    {
     "data": {
      "text/plain": [
       "[('sweden', 0.5172349810600281),\n",
       " ('maintenant', 0.5067005157470703),\n",
       " ('malta', 0.4964827001094818),\n",
       " ('un_precio', 0.4922367334365845),\n",
       " ('beaucoup_de', 0.4847589433193207),\n",
       " ('compris', 0.4838099479675293),\n",
       " ('italy', 0.48243752121925354),\n",
       " ('bono', 0.48228466510772705),\n",
       " ('droite', 0.48198917508125305),\n",
       " ('ac_milan', 0.48157748579978943)]"
      ]
     },
     "execution_count": 72,
     "metadata": {},
     "output_type": "execute_result"
    }
   ],
   "source": [
    "model.most_similar(positive=['american', 'burrito'], \n",
    "                   negative=['barbeque'])"
   ]
  },
  {
   "cell_type": "markdown",
   "id": "85c9179c-307a-4c7b-b3a0-6e0316df4f83",
   "metadata": {},
   "source": [
    "### Task 5: Dimensionality reduction and visualizing"
   ]
  },
  {
   "cell_type": "markdown",
   "id": "1419a1e5-a8be-44df-9334-f03dc427122c",
   "metadata": {},
   "source": [
    "In the following cell, I've written a short bit of code which takes a given subset of words and plots them on a simple scatter plot. Remember that the word embeddings are 300d (or 100d here, depending on which language you're using), so we need to perform some kind of dimensionality reduction on the embeddings to get them down to 2D.\n",
    "\n",
    "Here, I'm using a simply PCA algorithm implemented via ```scikit-learn```. An alternative approach might also be to use Singular Value Decomposition or SVD, which works in a similar but ever-so-slightly different way to PCA. You can read more [here](https://jeremykun.com/2016/04/18/singular-value-decomposition-part-1-perspectives-on-linear-algebra/) and [here](https://jonathan-hui.medium.com/machine-learning-singular-value-decomposition-svd-principal-component-analysis-pca-1d45e885e491) - the maths is bit mind-bending, just FYI.\n",
    "\n",
    "Experiment with plotting certain subsets of words by changing the ```words``` list. How useful do you find these plots? Do they show anything meaningful?\n"
   ]
  },
  {
   "cell_type": "code",
   "execution_count": 73,
   "id": "2555a971-2538-416b-b3c6-7c1732893d2b",
   "metadata": {
    "execution": {
     "iopub.execute_input": "2022-10-13T12:10:20.405678Z",
     "iopub.status.busy": "2022-10-13T12:10:20.404976Z",
     "iopub.status.idle": "2022-10-13T12:10:20.570076Z",
     "shell.execute_reply": "2022-10-13T12:10:20.569514Z",
     "shell.execute_reply.started": "2022-10-13T12:10:20.405623Z"
    },
    "tags": []
   },
   "outputs": [
    {
     "data": {
      "image/png": "[encoded data removed]",
      "text/plain": [
       "<Figure size 432x288 with 1 Axes>"
      ]
     },
     "metadata": {
      "needs_background": "light"
     },
     "output_type": "display_data"
    }
   ],
   "source": [
    "# the list of words we want to plot\n",
    "words = [\"man\", \"woman\", \"doctor\", \"nurse\", \"king\", \"queen\", \"boy\", \"girl\"]\n",
    "\n",
    "# an empty list for vectors\n",
    "X = []\n",
    "# get vectors for subset of words\n",
    "for word in words:\n",
    "    X.append(model[word])\n",
    "\n",
    "# Use PCA for dimensionality reduction to 2D\n",
    "pca = PCA(n_components=2)\n",
    "result = pca.fit_transform(X)\n",
    "\n",
    "# or try SVD - how are they different?\n",
    "#svd = TruncatedSVD(n_components=2)\n",
    "# fit_transform the initialized PCA model\n",
    "#result = svd.fit_transform(X)\n",
    "\n",
    "# create a scatter plot of the projection\n",
    "plt.scatter(result[:, 0], result[:, 1])\n",
    "\n",
    "# for each word in the list of words\n",
    "for i, word in enumerate(words):\n",
    "    plt.annotate(word, xy=(result[i, 0], result[i, 1]))\n",
    "\n",
    "plt.show()"
   ]
  },
  {
   "cell_type": "markdown",
   "id": "9831a495",
   "metadata": {},
   "source": [
    "### Bonus tasks\n",
    "\n",
    "If you run out of things to explore with these embeddings, try some of the following tasks:\n",
    "\n",
    "[Easier]\n",
    "- make new plots like those above but cleaner and more informative\n",
    "- write a script which takes a list of words and produces the output above\n",
    "  \n",
    "[More difficult]\n",
    "- work through [this](https://pytorch.org/tutorials/beginner/nlp/word_embeddings_tutorial.html) documentation which demonstrates how to train word embedding using ```pytorch```. Compare this to the training documentation [here](https://radimrehurek.com/gensim/auto_examples/tutorials/run_word2vec.html) and think about how you would train a larger model on your own data."
   ]
  }
 ],
 "metadata": {
  "kernelspec": {
   "display_name": "Python 3.9.13 64-bit",
   "language": "python",
   "name": "python3"
  },
  "language_info": {
   "codemirror_mode": {
    "name": "ipython",
    "version": 3
   },
   "file_extension": ".py",
   "mimetype": "text/x-python",
   "name": "python",
   "nbconvert_exporter": "python",
   "pygments_lexer": "ipython3",
   "version": "3.9.2"
  },
  "vscode": {
   "interpreter": {
    "hash": "397704579725e15f5c7cb49fe5f0341eb7531c82d19f2c29d197e8b64ab5776b"
   }
  }
 },
 "nbformat": 4,
 "nbformat_minor": 5
}
